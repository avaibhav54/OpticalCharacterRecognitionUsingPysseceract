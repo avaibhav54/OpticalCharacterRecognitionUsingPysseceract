{
 "cells": [
  {
   "cell_type": "code",
   "execution_count": 4,
   "metadata": {},
   "outputs": [
    {
     "name": "stdout",
     "output_type": "stream",
     "text": [
      "Image to text:\n",
      " am\n",
      "\n",
      "°tebog\n",
      "\f",
      "\n"
     ]
    }
   ],
   "source": [
    "import cv2\n",
    "import pytesseract\n",
    "pytesseract.pytesseract.tesseract_cmd = r'C:\\Program Files\\Tesseract-OCR\\tesseract.exe'\n",
    "def recText(img):\n",
    "    text = pytesseract.pytesseract.image_to_string(img)\n",
    "    return text\n",
    "cam = cv2.VideoCapture(0)\n",
    "while True:\n",
    "    _,img = cam.read()\n",
    "    img = cv2.cvtColor(img,cv2.COLOR_BGR2GRAY)\n",
    "    text = \"Normal\"\n",
    "    cv2.imshow(\"CameraCapture\",img)\n",
    "    key = cv2.waitKey(1)\n",
    "    if key == 27:\n",
    "        cv2.imwrite(\"vaibhav.png\",img)\n",
    "        info = recText('C:/Users/agarw/AI/16_OpticalCharacterRecognitionUsingPytrsseract/vaibhav.png')\n",
    "        print(\"Image to text:\\n\",info)\n",
    "        break\n",
    "cam.release()\n",
    "cv2.destroyAllWindows()"
   ]
  },
  {
   "cell_type": "code",
   "execution_count": null,
   "metadata": {},
   "outputs": [],
   "source": []
  }
 ],
 "metadata": {
  "kernelspec": {
   "display_name": "Python 3",
   "language": "python",
   "name": "python3"
  },
  "language_info": {
   "codemirror_mode": {
    "name": "ipython",
    "version": 3
   },
   "file_extension": ".py",
   "mimetype": "text/x-python",
   "name": "python",
   "nbconvert_exporter": "python",
   "pygments_lexer": "ipython3",
   "version": "3.8.5"
  }
 },
 "nbformat": 4,
 "nbformat_minor": 4
}
