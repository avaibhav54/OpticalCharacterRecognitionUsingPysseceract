{
 "cells": [
  {
   "cell_type": "code",
   "execution_count": 2,
   "metadata": {},
   "outputs": [],
   "source": [
    "try:\n",
    "    from PIL import Image\n",
    "except ImportError:\n",
    "    import Image\n"
   ]
  },
  {
   "cell_type": "code",
   "execution_count": 3,
   "metadata": {},
   "outputs": [
    {
     "name": "stdout",
     "output_type": "stream",
     "text": [
      " \n",
      "\n",
      "Section: 20f3 | Question: 10f1 | Marks for this Question:10 | & & =) 80% +) @ General Instructions iB 3\n",
      "\n",
      " \n",
      "\n",
      "Upload answer sheets Test time left: 59:02\n",
      "\n",
      "Compare turn-taking, round-robin and free-for-all as floor control mechanisms. When might each be effective?\n",
      "\n",
      "ice you upload files from your second device, click on to check your submission\n",
      "\n",
      "© Camera\n",
      "\n",
      " \n",
      "\f",
      "\n",
      "Written Successful\n"
     ]
    }
   ],
   "source": [
    "import pytesseract\n",
    "pytesseract.pytesseract.tesseract_cmd=r\"C:\\Program Files\\Tesseract-OCR\\tesseract.exe\"\n",
    "def recText(filename):\n",
    "    return pytesseract.image_to_string(Image.open(filename))\n",
    "\n",
    "info=recText('test.png')\n",
    "print(info);\n",
    "file=open(\"result.txt\",\"w\")\n",
    "file.write(info)\n",
    "file.close()\n",
    "print(\"Written Successful\")"
   ]
  },
  {
   "cell_type": "code",
   "execution_count": null,
   "metadata": {},
   "outputs": [],
   "source": []
  }
 ],
 "metadata": {
  "kernelspec": {
   "display_name": "Python 3",
   "language": "python",
   "name": "python3"
  },
  "language_info": {
   "codemirror_mode": {
    "name": "ipython",
    "version": 3
   },
   "file_extension": ".py",
   "mimetype": "text/x-python",
   "name": "python",
   "nbconvert_exporter": "python",
   "pygments_lexer": "ipython3",
   "version": "3.8.5"
  }
 },
 "nbformat": 4,
 "nbformat_minor": 4
}
